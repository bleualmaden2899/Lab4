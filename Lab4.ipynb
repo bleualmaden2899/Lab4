{
  "nbformat": 4,
  "nbformat_minor": 0,
  "metadata": {
    "colab": {
      "name": "Lab4.ipynb",
      "provenance": [],
      "collapsed_sections": []
    },
    "kernelspec": {
      "name": "python3",
      "display_name": "Python 3"
    }
  },
  "cells": [
    {
      "cell_type": "markdown",
      "metadata": {
        "id": "f3SpeDey6eWF"
      },
      "source": [
        "\n",
        "# **Linear Algebra for CpE**\n",
        "\n",
        "# **Laboratory 4: Vector Operations**\n",
        "\n",
        "**Coded and submitted by**:\n",
        "\n",
        "***Almaden, Edward Djan Niccolo V.***\n",
        "\n",
        "58010\n"
      ]
    },
    {
      "cell_type": "markdown",
      "metadata": {
        "id": "xDZkxuDA7Tgv"
      },
      "source": [
        "**Task 1**\n",
        "\n",
        "Make an explicit function (not using any of NumPy's preset functions) solving the modulus of a vector using the Euclidian Norm formula:$$||X|| = \\sqrt{\\sum_{n=1}^{N}x_n^2}$$Create a program flowchart for your algorithm and explain it in your methodology. Create 6 different vectors which their element count should not be lower than 4 elements. Explain the results at the results discussion section while comparing them to the np.linalg.norm() function."
      ]
    },
    {
      "cell_type": "code",
      "metadata": {
        "id": "ulkpZ1GW2-EG",
        "outputId": "09608d43-5455-4412-abf6-b89b82479656",
        "colab": {
          "base_uri": "https://localhost:8080/"
        }
      },
      "source": [
        "import math\n",
        "#The vectors and the equation below for multiplying the elements \n",
        "#and math.sqrt() for Euclidean Norm Result\n",
        "vA = [1,2,3,4]\n",
        "vA = ((vA[0])**2)+(vA[1]**2)+(vA[2]**2+vA[3]**2)\n",
        "euc_norm1 = math.sqrt(vA)\n",
        "\n",
        "vB = [5,6,7,8]\n",
        "vB = ((vB[0])**2)+(vB[1]**2)+(vB[2]**2+vB[3]**2)\n",
        "euc_norm2 = math.sqrt(vB)\n",
        "\n",
        "vC = [9,0,1,2]\n",
        "vC = ((vC[0])**2)+(vC[1]**2)+(vC[2]**2+vC[3]**2)\n",
        "euc_norm3 = math.sqrt(vC)\n",
        "\n",
        "vX = [3,4,5,6]\n",
        "vX = ((vX[0])**2)+(vX[1]**2)+(vX[2]**2+vX[3]**2)\n",
        "euc_norm4 = math.sqrt(vX)\n",
        "\n",
        "vY = [7,8,9,0]\n",
        "vY = ((vY[0])**2)+(vY[1]**2)+(vY[2]**2+vY[3]**2)\n",
        "euc_norm5 = math.sqrt(vY)\n",
        "\n",
        "vZ = [0,9,8,6]\n",
        "vZ = ((vZ[0])**2)+(vZ[1]**2)+(vZ[2]**2+vZ[3]**2)\n",
        "euc_norm6 = math.sqrt(vZ)\n",
        "\n",
        "#Result\n",
        "print(\"Result of vA using Euclidean Norm Formula: \",euc_norm1)\n",
        "print(\"Result of vB using Euclidean Norm Formula: \",euc_norm2)\n",
        "print(\"Result of vC using Euclidean Norm Formula: \",euc_norm3)\n",
        "print(\"Result of vX using Euclidean Norm Formula: \",euc_norm4)\n",
        "print(\"Result of vY using Euclidean Norm Formula: \",euc_norm5)\n",
        "print(\"Result of vZ using Euclidean Norm Formula: \",euc_norm6)"
      ],
      "execution_count": 51,
      "outputs": [
        {
          "output_type": "stream",
          "text": [
            "Result of vA using Euclidean Norm Formula:  5.477225575051661\n",
            "Result of vB using Euclidean Norm Formula:  13.19090595827292\n",
            "Result of vC using Euclidean Norm Formula:  9.273618495495704\n",
            "Result of vX using Euclidean Norm Formula:  9.273618495495704\n",
            "Result of vY using Euclidean Norm Formula:  13.92838827718412\n",
            "Result of vZ using Euclidean Norm Formula:  13.45362404707371\n"
          ],
          "name": "stdout"
        }
      ]
    },
    {
      "cell_type": "code",
      "metadata": {
        "id": "OcxRhztd5G-i",
        "outputId": "d5d05ba1-a304-42bd-a9ad-07c0abde6bba",
        "colab": {
          "base_uri": "https://localhost:8080/"
        }
      },
      "source": [
        "import numpy as np\n",
        "import matplotlib.pyplot as plt\n",
        "%matplotlib inline\n",
        "#comparing to the np\n",
        "vA = np.array([1,2,3,4])\n",
        "vB = np.array([5,6,7,8])\n",
        "vC = np.array([9,0,1,2])\n",
        "vX = np.array([3,4,5,6])\n",
        "vY = np.array([7,8,9,0])\n",
        "vZ = np.array([0,9,8,6])\n",
        "\n",
        "#Result\n",
        "print(\"Results:\")\n",
        "print(\"Result of vA using Euclidian Norm Formula: \",np.linalg.norm(vA))\n",
        "print(\"Result of vB using Euclidian Norm Formula::\",np.linalg.norm(vB))\n",
        "print(\"Result of vC using Euclidian Norm Formula::\",np.linalg.norm(vC))\n",
        "print(\"Result of vX using Euclidian Norm Formula:: \",np.linalg.norm(vX))\n",
        "print(\"Result of vY using Euclidian Norm Formula::\",np.linalg.norm(vY))\n",
        "print(\"Result of vZ using Euclidian Norm Formula::\",np.linalg.norm(vZ))"
      ],
      "execution_count": 52,
      "outputs": [
        {
          "output_type": "stream",
          "text": [
            "Results:\n",
            "Result of vA using Euclidian Norm Formula:  5.477225575051661\n",
            "Result of vB using Euclidian Norm Formula:: 13.19090595827292\n",
            "Result of vC using Euclidian Norm Formula:: 9.273618495495704\n",
            "Result of vX using Euclidian Norm Formula::  9.273618495495704\n",
            "Result of vY using Euclidian Norm Formula:: 13.92838827718412\n",
            "Result of vZ using Euclidian Norm Formula:: 13.45362404707371\n"
          ],
          "name": "stdout"
        }
      ]
    },
    {
      "cell_type": "markdown",
      "metadata": {
        "id": "I70YzNaD7hT_"
      },
      "source": [
        "**Task 2**\n",
        "\n",
        "Make an explicit function (not using any of NumPy's preset functions nor the @ operator) solving the inner product of two vectors using the inner product formula:$$A\\cdot B = \\sum_{n=1}^{N} a_n \\times b_n $$$$whereas: N = len(A) = len(B)$$Create a program flowchart for your algorithm and explain it in your methodology. Create 5 distinct pairs vectors which their element count should not be lower than 5 elements. Explain the results at the results discussion section while comparing them to the np.inner() function.\n"
      ]
    },
    {
      "cell_type": "code",
      "metadata": {
        "id": "SrPmcmGu7u9w",
        "outputId": "5de70805-98c0-471a-cdd3-0d20f983b522",
        "colab": {
          "base_uri": "https://localhost:8080/"
        }
      },
      "source": [
        "vA = ([1,2,3,4,5])\n",
        "vB = ([6,7,8,9,0])\n",
        "DotPrdct1 = (vA[0]*vB[0] + vB[1]*vB[1]+ vA[2]*vB[2] + vA[3]*vB[3]+ vA[4]*vB[4])\n",
        "\n",
        "vC = ([11,21,31,41,51])\n",
        "vD = ([61,71,81,91,10])\n",
        "DotPrdct2 = (vC[0]*vD[0] + vC[1]*vD[1]+ vC[2]*vD[2] + vC[3]*vD[3]+ vC[4]*vD[4])\n",
        "\n",
        "vE = ([12,22,32,42,52])\n",
        "vF = ([62,72,82,92,20])\n",
        "DotPrdct3 = (vE[0]*vF[0] + vE[1]*vF[1]+ vE[2]*vF[2] + vE[3]*vF[3]+ vE[4]*vF[4])\n",
        "\n",
        "vG = ([13,23,33,43,53])\n",
        "vH = ([63,73,83,93,30])\n",
        "DotPrdct4 = (vG[0]*vH[0] + vG[1]*vH[1]+ vG[2]*vH[2] + vG[3]*vH[3]+ vG[4]*vH[4])\n",
        "\n",
        "vI = ([14,24,34,44,54])\n",
        "vJ = ([46,47,48,49,40])\n",
        "DotPrdct5 = (vI[0]*vJ[0] + vI[1]*vJ[1]+ vI[2]*vJ[2] + vI[3]*vJ[3]+ vI[4]*vJ[4])\n",
        "\n",
        "\n",
        "print(\"Results:\")\n",
        "print(\"First Pair Result: \",DotPrdct1)\n",
        "print(\"Second Pair Result: \",DotPrdct2)\n",
        "print(\"Third Pair Result: \",DotPrdct3)\n",
        "print(\"Fourth Pair Result: \",DotPrdct4)\n",
        "print(\"Fifth Pair Result: \",DotPrdct5)\n"
      ],
      "execution_count": 53,
      "outputs": [
        {
          "output_type": "stream",
          "text": [
            "Results:\n",
            "First Pair Result:  115\n",
            "Second Pair Result:  8914\n",
            "Third Pair Result:  9856\n",
            "Fourth Pair Result:  10826\n",
            "Fifth Pair Result:  7720\n"
          ],
          "name": "stdout"
        }
      ]
    },
    {
      "cell_type": "code",
      "metadata": {
        "id": "SwVYzJzbB9XR",
        "outputId": "48dddfba-bf55-4e2a-c590-ed94a83cfa49",
        "colab": {
          "base_uri": "https://localhost:8080/"
        }
      },
      "source": [
        "#comparing to np\n",
        "vA = np.array([1,2,3,4,5])\n",
        "vB = np.array([6,7,8,9,0])\n",
        "\n",
        "vC = np.array([11,21,31,41,51])\n",
        "vD = np.array([61,71,81,91,10])\n",
        "\n",
        "vE = np.array([12,22,32,42,52])\n",
        "vF = np.array([62,72,82,92,20])\n",
        "\n",
        "vG = np.array([13,23,33,43,53])\n",
        "vH = np.array([63,73,83,93,30])\n",
        "\n",
        "vI = np.array([14,24,34,44,54])\n",
        "vJ = np.array([46,47,48,49,40])\n",
        "\n",
        "\n",
        "\n",
        "print(\"Results:\")\n",
        "print(\"First Pair Result: \",np.inner(vA,vB))\n",
        "print(\"Second Pair Result:\",np.inner(vC,vD))\n",
        "print(\"Third Pair Result:\",np.inner(vE,vF))\n",
        "print(\"Fourth Pair Result:\",np.inner(vG,vH))\n",
        "print(\"Fifth Pair Result:\",np.inner(vI,vJ))"
      ],
      "execution_count": 54,
      "outputs": [
        {
          "output_type": "stream",
          "text": [
            "Results:\n",
            "First Pair Result:  80\n",
            "Second Pair Result: 8914\n",
            "Third Pair Result: 9856\n",
            "Fourth Pair Result: 10826\n",
            "Fifth Pair Result: 7720\n"
          ],
          "name": "stdout"
        }
      ]
    },
    {
      "cell_type": "markdown",
      "metadata": {
        "id": "HeiT4cBOHN6S"
      },
      "source": [
        "**Task 3**\n",
        "\n",
        "Code the following vector operation and solve them using the given vector values\n",
        "\n",
        "$$A = \\begin{bmatrix}-0.4\\\\0.2\\\\-0.6\\end{bmatrix}, B = \\begin{bmatrix}-0.2\\\\0.2\\\\1\\end{bmatrix}, C = \\begin{bmatrix}0.2\\\\-0.1\\\\-0.5\\end{bmatrix}$$\n",
        "Create a program flowchart for your algorithm and explain it in your methodology. In your results, compare your answer to the expected output, visualize, and explain the resulting vector using a 3D plot."
      ]
    },
    {
      "cell_type": "code",
      "metadata": {
        "id": "oaPm0L3VJOHb",
        "outputId": "6410fecb-1cd6-4a10-b07a-992a00d07065",
        "colab": {
          "base_uri": "https://localhost:8080/"
        }
      },
      "source": [
        "A = np.array([-0.4,0.3,-0.6])\n",
        "B = np.array([-0.2,0.2,1])\n",
        "C = np.array([0.2,0.1,-0.5])\n",
        "\n",
        "A@A + B@B + C@C\n"
      ],
      "execution_count": 46,
      "outputs": [
        {
          "output_type": "execute_result",
          "data": {
            "text/plain": [
              "1.99"
            ]
          },
          "metadata": {
            "tags": []
          },
          "execution_count": 46
        }
      ]
    },
    {
      "cell_type": "code",
      "metadata": {
        "id": "feSkfQlbJlaY",
        "outputId": "39390d45-2370-4cfe-f084-5ec784db2a62",
        "colab": {
          "base_uri": "https://localhost:8080/"
        }
      },
      "source": [
        "A*(B+A*B)/C"
      ],
      "execution_count": 47,
      "outputs": [
        {
          "output_type": "execute_result",
          "data": {
            "text/plain": [
              "array([0.24, 0.78, 0.48])"
            ]
          },
          "metadata": {
            "tags": []
          },
          "execution_count": 47
        }
      ]
    },
    {
      "cell_type": "code",
      "metadata": {
        "id": "gmAH-VoUJmaQ",
        "outputId": "6fd32067-8f89-44d7-bfda-4c7d58cb47d8",
        "colab": {
          "base_uri": "https://localhost:8080/"
        }
      },
      "source": [
        "np.linalg.norm(A+B+C)"
      ],
      "execution_count": 48,
      "outputs": [
        {
          "output_type": "execute_result",
          "data": {
            "text/plain": [
              "0.7280109889280518"
            ]
          },
          "metadata": {
            "tags": []
          },
          "execution_count": 48
        }
      ]
    },
    {
      "cell_type": "code",
      "metadata": {
        "id": "UEfYYckDJolI",
        "outputId": "41dbcec6-943a-48ce-bf81-4c8df1777313",
        "colab": {
          "base_uri": "https://localhost:8080/"
        }
      },
      "source": [
        "ExpectedAnswer = (A@A + B@B + C@C) * (A*(B+A*B)/C) *(np.linalg.norm(A+B+C))\n",
        "print(\"Expected Answer:\",ExpectedAnswer)"
      ],
      "execution_count": 49,
      "outputs": [
        {
          "output_type": "stream",
          "text": [
            "Expected Answer: [0.34769805 1.13001866 0.6953961 ]\n"
          ],
          "name": "stdout"
        }
      ]
    },
    {
      "cell_type": "code",
      "metadata": {
        "id": "n0dm-r8gJ5Ig",
        "outputId": "62433259-5903-4a23-c608-2a5b3399abe9",
        "colab": {
          "base_uri": "https://localhost:8080/",
          "height": 248
        }
      },
      "source": [
        "figure = plt.figure()\n",
        "ax = figure.gca(projection='3d')\n",
        "ax.set_xlim([0, 1.5])\n",
        "ax.set_ylim([0, 1.5])\n",
        "ax.set_zlim([0, 1.5])\n",
        "ax.quiver(0, 0, 0, [0], ExpectedAnswer[1], ExpectedAnswer[2], colors='blue', arrow_length_ratio=0.05,linestyle = '--')\n",
        "plt.title(\"3D PLOT\")\n",
        "plt.show()"
      ],
      "execution_count": 50,
      "outputs": [
        {
          "output_type": "display_data",
          "data": {
            "image/png": "[encoded data removed]",
            "text/plain": [
              "<Figure size 432x288 with 1 Axes>"
            ]
          },
          "metadata": {
            "tags": [],
            "needs_background": "light"
          }
        }
      ]
    },
    {
      "cell_type": "code",
      "metadata": {
        "id": "HpsSmaMQLG_x"
      },
      "source": [
        ""
      ],
      "execution_count": null,
      "outputs": []
    }
  ]
}